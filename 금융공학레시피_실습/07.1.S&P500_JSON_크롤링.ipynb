{
 "cells": [
  {
   "cell_type": "code",
   "execution_count": 10,
   "id": "d1a51c89-da36-4b04-85e0-e33d23244547",
   "metadata": {},
   "outputs": [],
   "source": [
    "import pandas as pd\n",
    "from urllib.request import Request, urlopen\n",
    "import json"
   ]
  },
  {
   "cell_type": "code",
   "execution_count": 11,
   "id": "91e7168a-aa53-470a-9d93-d78549f54222",
   "metadata": {},
   "outputs": [],
   "source": [
    "symbol='SPI@SPX'\n",
    "page=1"
   ]
  },
  {
   "cell_type": "code",
   "execution_count": 12,
   "id": "b71d57a0-94f2-4bb0-8a21-e621eb1b72fb",
   "metadata": {},
   "outputs": [
    {
     "name": "stdout",
     "output_type": "stream",
     "text": [
      "응답 내용 확인: [{\"symb\":\"SPI@SPX\",\"xymd\":\"20250224\",\"open\":6026.69,\"high\":6043.65,\"low\":5977.83,\"clos\":5983.25,\"diff\":-29.88,\"rate\":-0.5,\"gvol\":3282444300},{\"symb\":\"SPI@SPX\",\"xymd\":\"20250221\",\"open\":6114.1,\"high\":6114.82,\"low\":6008.56,\"clos\":6013.13,\"diff\":-104.39,\"rate\":-1.71,\"gvol\":3386529310},{\"symb\":\"SPI@SPX\",\"xymd\":\"20250220\",\"open\":6134.5,\"high\":6134.5,\"low\":6084.59,\"clos\":6117.52,\"diff\":-26.63,\"rate\":-0.43,\"gvol\":2957558740},{\"symb\":\"SPI@SPX\",\"xymd\":\"20250219\",\"open\":6117.76,\"high\":6147.43,\"low\":6111.15\n",
      "JSON 데이터: [{'symb': 'SPI@SPX', 'xymd': '20250224', 'open': 6026.69, 'high': 6043.65, 'low': 5977.83, 'clos': 5983.25, 'diff': -29.88, 'rate': -0.5, 'gvol': 3282444300}, {'symb': 'SPI@SPX', 'xymd': '20250221', 'open': 6114.1, 'high': 6114.82, 'low': 6008.56, 'clos': 6013.13, 'diff': -104.39, 'rate': -1.71, 'gvol': 3386529310}, {'symb': 'SPI@SPX', 'xymd': '20250220', 'open': 6134.5, 'high': 6134.5, 'low': 6084.59, 'clos': 6117.52, 'diff': -26.63, 'rate': -0.43, 'gvol': 2957558740}, {'symb': 'SPI@SPX', 'xymd': '20250219', 'open': 6117.76, 'high': 6147.43, 'low': 6111.15, 'clos': 6144.15, 'diff': 14.57, 'rate': 0.24, 'gvol': 3043365330}, {'symb': 'SPI@SPX', 'xymd': '20250218', 'open': 6121.6, 'high': 6129.63, 'low': 6099.51, 'clos': 6129.58, 'diff': 14.95, 'rate': 0.24, 'gvol': 3260380210}, {'symb': 'SPI@SPX', 'xymd': '20250214', 'open': 6115.52, 'high': 6127.47, 'low': 6107.62, 'clos': 6114.63, 'diff': -0.44, 'rate': -0.01, 'gvol': 2801121270}, {'symb': 'SPI@SPX', 'xymd': '20250213', 'open': 6060.59, 'high': 6116.91, 'low': 6050.95, 'clos': 6115.07, 'diff': 63.1, 'rate': 1.04, 'gvol': 2949594430}, {'symb': 'SPI@SPX', 'xymd': '20250212', 'open': 6025.08, 'high': 6063.0, 'low': 6003.0, 'clos': 6051.97, 'diff': -16.53, 'rate': -0.27, 'gvol': 2878167150}, {'symb': 'SPI@SPX', 'xymd': '20250211', 'open': 6049.32, 'high': 6076.28, 'low': 6042.34, 'clos': 6068.5, 'diff': 2.06, 'rate': 0.03, 'gvol': 2748396010}, {'symb': 'SPI@SPX', 'xymd': '20250210', 'open': 6046.4, 'high': 6073.38, 'low': 6044.84, 'clos': 6066.44, 'diff': 40.45, 'rate': 0.67, 'gvol': 2743606150}]\n"
     ]
    }
   ],
   "source": [
    "url = f'https://finance.naver.com/world/worldDayListJson.naver?symbol={symbol}&fdtc=0&page={page}'\n",
    "\n",
    "headers = {\n",
    "    'User-Agent': 'Mozilla/5.0 (Windows NT 10.0; Win64; x64)',\n",
    "    'Referer': 'https://finance.naver.com/'\n",
    "}\n",
    "\n",
    "req = Request(url, headers=headers)\n",
    "raw = urlopen(req).read().decode('utf-8', errors='ignore')\n",
    "print(\"응답 내용 확인:\", raw[:500])  # 응답 내용 일부 출력\n",
    "\n",
    "data = json.loads(raw)  # ✅ JSON 파싱 시도\n",
    "print(\"JSON 데이터:\", data)\n"
   ]
  },
  {
   "cell_type": "code",
   "execution_count": 14,
   "id": "944f22af-3f7f-4853-89df-3f05efd155e4",
   "metadata": {},
   "outputs": [
    {
     "data": {
      "text/plain": [
       "'20250224'"
      ]
     },
     "execution_count": 14,
     "metadata": {},
     "output_type": "execute_result"
    }
   ],
   "source": [
    "data[0]['xymd']"
   ]
  },
  {
   "cell_type": "code",
   "execution_count": 18,
   "id": "62f06c8f-b99f-42fd-9afc-8019aad80f21",
   "metadata": {},
   "outputs": [
    {
     "name": "stdout",
     "output_type": "stream",
     "text": [
      "{datetime.date(2025, 2, 24): 5983.25, datetime.date(2025, 2, 21): 6013.13, datetime.date(2025, 2, 20): 6117.52, datetime.date(2025, 2, 19): 6144.15, datetime.date(2025, 2, 18): 6129.58, datetime.date(2025, 2, 14): 6114.63, datetime.date(2025, 2, 13): 6115.07, datetime.date(2025, 2, 12): 6051.97, datetime.date(2025, 2, 11): 6068.5, datetime.date(2025, 2, 10): 6066.44}\n"
     ]
    }
   ],
   "source": [
    "import datetime as dt\n",
    "\n",
    "d=dict()\n",
    "for n in range(len(data)):\n",
    "    date=pd.to_datetime(data[n]['xymd']).date()\n",
    "    price=float(data[n]['clos'])\n",
    "    d[date]=price\n",
    "\n",
    "print(d)"
   ]
  },
  {
   "cell_type": "code",
   "execution_count": 19,
   "id": "af4e8153-4f8e-47b4-a949-ac36d79dbf78",
   "metadata": {},
   "outputs": [
    {
     "name": "stdout",
     "output_type": "stream",
     "text": [
      "{datetime.date(2025, 2, 24): 5983.25, datetime.date(2025, 2, 21): 6013.13, datetime.date(2025, 2, 20): 6117.52, datetime.date(2025, 2, 19): 6144.15, datetime.date(2025, 2, 18): 6129.58, datetime.date(2025, 2, 14): 6114.63, datetime.date(2025, 2, 13): 6115.07, datetime.date(2025, 2, 12): 6051.97, datetime.date(2025, 2, 11): 6068.5, datetime.date(2025, 2, 10): 6066.44}\n"
     ]
    }
   ],
   "source": [
    "d = {pd.to_datetime(item['xymd']).date(): float(item['clos']) for item in data} #딕셔너리 컴프리헨션. {key: value for item in data}\n",
    "print(d)"
   ]
  },
  {
   "cell_type": "code",
   "execution_count": 22,
   "id": "cbc8b885-1c80-44de-b0ab-186ce7768724",
   "metadata": {},
   "outputs": [],
   "source": [
    "def read_json(d, symbol, page=1):\n",
    "    url = f'https://finance.naver.com/world/worldDayListJson.naver?symbol={symbol}&fdtc=0&page={page}'\n",
    "\n",
    "    headers = {\n",
    "    'User-Agent': 'Mozilla/5.0 (Windows NT 10.0; Win64; x64)',\n",
    "    'Referer': 'https://finance.naver.com/'\n",
    "    }\n",
    "\n",
    "    req = Request(url, headers=headers)\n",
    "    raw = urlopen(req).read().decode('utf-8', errors='ignore')\n",
    "    data = json.loads(raw)\n",
    "\n",
    "    for n in range(len(data)):\n",
    "        date=pd.to_datetime(data[n]['xymd']).date()\n",
    "        price=float(data[n]['clos'])\n",
    "        d[date]=price\n",
    "\n",
    "    if len(data)==10:\n",
    "        page+=1\n",
    "        read_json(d, symbol, page)\n",
    "\n",
    "    return(d)"
   ]
  },
  {
   "cell_type": "code",
   "execution_count": 23,
   "id": "e7f200dd-4cc2-4ef9-9630-d91d6bfb5b61",
   "metadata": {},
   "outputs": [],
   "source": [
    "historical_index=pd.Series()\n",
    "historical_index=read_json(historical_index, symbol, page)"
   ]
  },
  {
   "cell_type": "code",
   "execution_count": 24,
   "id": "8b89821d-912a-4c24-bda3-893fa57dd187",
   "metadata": {},
   "outputs": [
    {
     "data": {
      "text/plain": [
       "2025-02-24    5983.25\n",
       "2025-02-21    6013.13\n",
       "2025-02-20    6117.52\n",
       "dtype: float64"
      ]
     },
     "execution_count": 24,
     "metadata": {},
     "output_type": "execute_result"
    }
   ],
   "source": [
    "historical_index.head(3)"
   ]
  },
  {
   "cell_type": "code",
   "execution_count": null,
   "id": "5af78c17-6665-4158-8f4f-7b5d59224577",
   "metadata": {},
   "outputs": [],
   "source": []
  }
 ],
 "metadata": {
  "kernelspec": {
   "display_name": "Python 3 (ipykernel)",
   "language": "python",
   "name": "python3"
  },
  "language_info": {
   "codemirror_mode": {
    "name": "ipython",
    "version": 3
   },
   "file_extension": ".py",
   "mimetype": "text/x-python",
   "name": "python",
   "nbconvert_exporter": "python",
   "pygments_lexer": "ipython3",
   "version": "3.11.5"
  }
 },
 "nbformat": 4,
 "nbformat_minor": 5
}
