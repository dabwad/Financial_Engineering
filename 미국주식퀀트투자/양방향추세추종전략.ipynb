{
 "cells": [
  {
   "cell_type": "code",
   "execution_count": 1,
   "id": "9b61a7eb-e39e-44cf-90b3-414fbd75e332",
   "metadata": {},
   "outputs": [],
   "source": [
    "import pandas as pd\n",
    "import numpy as np\n",
    "import yfinance as yf\n",
    "import matplotlib.pyplot as plt"
   ]
  },
  {
   "cell_type": "code",
   "execution_count": 2,
   "id": "f19c5f1a-3976-4a89-84f2-a35e55d52be7",
   "metadata": {},
   "outputs": [
    {
     "name": "stdout",
     "output_type": "stream",
     "text": [
      "YF.download() has changed argument auto_adjust default to True\n"
     ]
    },
    {
     "name": "stderr",
     "output_type": "stream",
     "text": [
      "[*********************100%***********************]  1 of 1 completed\n"
     ]
    }
   ],
   "source": [
    "ticker = 'TQQQ'\n",
    "start_date='2015-04-01'\n",
    "df=yf.download(ticker, start=start_date)"
   ]
  },
  {
   "cell_type": "markdown",
   "id": "713bbe36-1488-4e07-b464-13f0a88d260d",
   "metadata": {},
   "source": [
    "## 양방향 MAC Event_Driven 백테스트 with 수수료"
   ]
  },
  {
   "cell_type": "code",
   "execution_count": 20,
   "id": "ccbeccae-ad14-46a2-a4d6-c9812634ac6c",
   "metadata": {},
   "outputs": [],
   "source": [
    "def mac_long_short(df, sw, lw, verbose=True):\n",
    "    fee_rate = 0.001\n",
    "    short_window = sw # 단기\n",
    "    long_window = lw # 장기\n",
    "    data = df.copy()\n",
    "    \n",
    "    #지수가중이동평균선 계산\n",
    "    data['Short_MA'] = data[('Close', ticker)].ewm(span=short_window, adjust=False).mean()\n",
    "    data['Long_MA'] = data[('Close', ticker)].ewm(span=long_window, adjust=False).mean()\n",
    "    data=data[long_window:].copy() #초기데이터 제거\n",
    "    \n",
    "    \n",
    "    #포지션과 시그널 계산\n",
    "    data['Position']=np.where(data['Short_MA']>data['Long_MA'], 1, -1) \n",
    "    data['Signal']=data['Position'].diff().fillna(0)\n",
    "    \n",
    "    prices=data[('Close', ticker)].values\n",
    "    signals=data['Signal'].values\n",
    "    \n",
    "    cash_init = 1000000\n",
    "    cash = cash_init\n",
    "    asset=np.zeros(len(data))\n",
    "    asset[0]=cash\n",
    "    pos = 0\n",
    "    \n",
    "    for i in range(1, len(data)):\n",
    "        if pos == 0: #start 지점\n",
    "            if signals[i] == 1: # 골든 크로스 -> 롱 진입\n",
    "                pos = 1\n",
    "                long_entry_price=prices[i]\n",
    "                long_num = int(cash/(long_entry_price*(1+fee_rate)))\n",
    "                cash-=long_entry_price*long_num*(1+fee_rate)\n",
    "\n",
    "            elif signals[i] == -1: # 데드 크로스 -> 숏 진입\n",
    "                pos = -1\n",
    "                short_entry_price = prices[i]\n",
    "                short_num = -int(cash/(short_entry_price*(1+fee_rate))) # 공매도 수량 short_num: 음수\n",
    "                cash -= short_entry_price*(-short_num)*fee_rate # 공매도는 빌려서 파는 것이므로, 주가*num만큼 계좌 차감이 아니라 거래 수수료만 차감 됨.\n",
    "\n",
    "        elif pos == 1: # Long 보유 중\n",
    "            if signals[i] == -2: # 데드 크로스 -> 롱 청산, 숏 진입\n",
    "                pos = -1\n",
    "                cash += prices[i]*long_num*(1-fee_rate)\n",
    "\n",
    "                short_entry_price = prices[i]\n",
    "                short_num = -int(cash/(short_entry_price*(1+fee_rate)))\n",
    "                cash -= short_entry_price*(-short_num)*fee_rate\n",
    "        \n",
    "        elif pos== -1: # Short 보유 중\n",
    "            if signals[i] == 2: # 골든 크로스 -> 숏 청산, 롱 진입\n",
    "                pos = 1\n",
    "                cash += (prices[i]-short_entry_price)*short_num + prices[i]*short_num*fee_rate # 숏으로 인한 손실 + 수수료 \n",
    "                # cash += prices[i]*short_num*(1 + fee_rate) - short_entry_price*short_num*\n",
    "                \n",
    "                long_entry_price = prices[i]\n",
    "                long_num = int(cash/(long_entry_price*(1+fee_rate)))\n",
    "                cash -= long_entry_price*long_num*(1+fee_rate)\n",
    "    \n",
    "        # 자산 가치 갱신 기록\n",
    "        if pos == 0:\n",
    "            asset[i]=cash\n",
    "        elif pos == 1:\n",
    "            asset[i]=cash+prices[i]*long_num\n",
    "        elif pos == -1: ##\n",
    "            asset[i] = cash + (prices[i]-short_entry_price)*short_num\n",
    "\n",
    "    data['Long_Entry'] = np.where(data['Signal'] == 2, data[('Close', ticker)], np.nan)\n",
    "    data['Long_Exit'] = np.where(data['Signal'] == -2, data[('Close', ticker)], np.nan)\n",
    "\n",
    "    '''\n",
    "    #시각화를 위한 매수, 매도 시점의 가격 칼럼 계산\n",
    "    data['Buy_Price'] = np.where(signals==1, prices, np.nan)\n",
    "    data['Sell_Price'] = np.where(signals==-1, prices, np.nan)\n",
    "    '''\n",
    "    \n",
    "    # 누적 수익률 계산 출력\n",
    "    data['Cumulative_Return']=np.array(asset)/cash_init\n",
    "    final_cum_return=data['Cumulative_Return'].iloc[-1]-1\n",
    "\n",
    "    if verbose: \n",
    "        print(f'Final cumulative return of the strategy: {100*final_cum_return: .2f}%')\n",
    "\n",
    "    return data, final_cum_return"
   ]
  },
  {
   "cell_type": "markdown",
   "id": "efe7fa7c-47ac-4aa0-83f5-0edb6aace3e2",
   "metadata": {},
   "source": [
    "## Optimizer"
   ]
  },
  {
   "cell_type": "code",
   "execution_count": 23,
   "id": "27ea16b6-e64a-4fe7-b28e-6a2e7819cd17",
   "metadata": {},
   "outputs": [],
   "source": [
    "def mac_long_short_optimizer(input_df):\n",
    "    #장단기 설정\n",
    "    short_window = list(range(5, 22))  # 5~21\n",
    "    long_window = list(range(22, 51))  # 22~50\n",
    "\n",
    "    ret_list=[] #각 파라미터 조합과 수익률을 저장할 리스트\n",
    "\n",
    "    #장단기 및 스탑로스 모든 조합에 대해 테스트\n",
    "    for x1, x2 in [(a,b) for a in short_window for b in long_window]:\n",
    "        df = input_df.copy()\n",
    "        _, ret = mac_long_short(df, x1, x2, verbose=False)\n",
    "        ret_list.append((x1, x2, ret))\n",
    "\n",
    "\n",
    "    # 여러 개의 최적해를 '모두' 찾고 최적값은 중위값을 선택\n",
    "    max_ror = max(ret_list, key=lambda x:x[2])[2]  # ret 값 기준으로 최대인 튜플 찾고, 거기서 ret값만 저장\n",
    "    max_tups=[tup for tup in ret_list if tup[2] == max_ror] # 맥스 ret값을 만족하는 모든 tup 찾아서 리스트에 저장\n",
    "    \n",
    "    params1=[tup[0] for tup in max_tups] \n",
    "    params2=[tup[1] for tup in max_tups]\n",
    "    \n",
    "    opt_param1 = int(np.median(params1))\n",
    "    opt_param2 = int(np.median(params2))\n",
    "    \n",
    "    optimal_df = pd.DataFrame(max_tups, columns=['short_window', 'long_window', 'ror'])  #리스트를 데이터프레임화. ror:파라미터 조합상 최종 수익률\n",
    "\n",
    "    print(f'Max Tuples: {max_tups}')\n",
    "    print(f'Optimal Parameters:{opt_param1}, {opt_param2}, ' f'Optimized Return:{100*max_ror: .2f}%')\n",
    "\n",
    "    return (opt_param1, opt_param2), optimal_df # return optimal_params, optimal_df랑 동일"
   ]
  },
  {
   "cell_type": "markdown",
   "id": "33b470d3-626e-4cf2-a7fc-b0c8b3d0a4f2",
   "metadata": {},
   "source": [
    "## tear_sheet"
   ]
  },
  {
   "cell_type": "code",
   "execution_count": 10,
   "id": "831f44e2-2219-4026-9e9a-35577047c1d9",
   "metadata": {},
   "outputs": [],
   "source": [
    "def tear_sheet(data):\n",
    "    # 수수료\n",
    "    fee_rate = 0.001\n",
    "    \n",
    "    # 투자기간 \n",
    "    trading_period = len(data)/252\n",
    "    print(f'Trading Period: {trading_period:.1f} years')\n",
    "\n",
    "    # 누적 수익률\n",
    "    buy_and_hold = data[('Close', ticker)].iloc[-1]*(1-fee_rate)/data[('Close', ticker)].iloc[0]*(1+fee_rate) - 1 # 그냥 사서 들고 있었을 때의 누적 수익률\n",
    "    final_cum_return = data['Cumulative_Return'].iloc[-1] - 1 # 추세추종전략 시행시의 누적 수익률\n",
    "    print(f'Final cumulative return of the strategy: {100*final_cum_return:.2f}%, Buy&Hold:{100*buy_and_hold:.2f}%')\n",
    "\n",
    "    # 연평균 수익률 CAGR\n",
    "    CAGR_benchmark = (buy_and_hold+1)**(1/trading_period)-1\n",
    "    CAGR_strategy = (data['Cumulative_Return'].iloc[-1])**(1/trading_period)-1 \n",
    "    # data['Cumulative_Return']이 자주 나오는데, \n",
    "    # 만약 데이터가 매우 크고 반복 계산이 많다면 CR=data[...].values로 따로 뽑아서 numpy 배열로 작업하는 게 훨씬 빠르긴 함\n",
    "    # 아니면 편의상 CR = data['Cumulative_Return']로 놓고 쓸 수도 있고 뭐\n",
    "    print(f'Strategy CAGR: {100*CAGR_strategy: .2f}%, Benchmark CAGR: {100*CAGR_benchmark:.2f}%')\n",
    "\n",
    "    # 샤프지수\n",
    "    risk_free_rate = 0.003\n",
    "    strategy_daily_return = data['Cumulative_Return'].pct_change().fillna(0) # 일일 수익률 싹 다 계산\n",
    "    mean_return = strategy_daily_return.mean()*252 # 일일 수익률 평균에 252를 곱해서 연 평균 수익률로 다시 환산\n",
    "    std_return=strategy_daily_return.std()*np.sqrt(252) # 동일\n",
    "    sharp_ratio=(mean_return - risk_free_rate) / std_return\n",
    "    print(f'Sharpe Ratio: {sharp_ratio:.2f}')\n",
    "\n",
    "    # 최대 낙폭 MDD(Maximum DrawDown)\n",
    "\n",
    "    # 전략의 MDD\n",
    "    data['Cumulative_Max']=data['Cumulative_Return'].cummax() # 누적 수익률의 최고값을 계속 추적해서 끌고 감. [1.2, 0.9, 1.3, 0.8] >> [1.2, 1.2, 1.3, 1.3]\n",
    "    data['Drawdown'] = data['Cumulative_Return'] / data ['Cumulative_Max'] - 1 # 최고 수익률 대비 현재 수익률 (낙폭)\n",
    "    max_drawdown = data['Drawdown'].min() # 낙폭 중 가장 깊은 순간 캐치\n",
    "\n",
    "    # 벤치마크 MDD\n",
    "    cumulative_returns = (1 + data[('Close', ticker)].pct_change()).cumprod() # 하루하루 주가 변화량을 적어놓고, 거기에 1을 더한 상태에서, 앞에서부터 복리로 누적곱 계산)\n",
    "    running_max = cumulative_returns.cummax()\n",
    "    drawdown = cumulative_returns/running_max - 1 # 당시 주가가 최고점 대비 얼마나 하락했는지 (현재 수익률 / 최고 수익률 - 1)\n",
    "    mdd_benchmark = drawdown.min() # 낙폭 중 가장 깊은 순간 캐치\n",
    "\n",
    "    print(f'Strategy MDD: {100*max_drawdown:.2f}%, Benchmark MDD: {100*mdd_benchmark:.2f}%')\n",
    "\n",
    "    ## 승률\n",
    "    buy_signals = data[data['Signal'] == 2].index #매수 '날짜' 추출한 리스트\n",
    "    sell_signals = data[data['Signal'] == -2].index #매도 '날짜' 추출한 리스트\n",
    "    \n",
    "    long_returns = [] \n",
    "    long_holding_periods = [] \n",
    "    short_returns = [] \n",
    "    short_holing_periods = [] \n",
    "\n",
    "    all_signals = sorted(list(buy_signals) + list(sell_signals)) \n",
    "    \n",
    "    for buy_date in buy_signals:\n",
    "        sell_dates = sell_signals[sell_signals > buy_date] # pandas 인덱스 슬라이싱. 매수 날짜보다 나중에 오는 매도 날짜 리스트\n",
    "        if not sell_dates.empty: # 매수 이후에 매도가 있으면 실행\n",
    "            sell_date = sell_dates[0] # 매수 이후 첫 번째 매도 날짜\n",
    "            buy_price = data.loc[buy_date, ('Close', ticker)] # 매수 때의 종가\n",
    "            sell_price = data.loc[sell_date, ('Close', ticker)] #매도 때의 종가\n",
    "            return_pct = (sell_price*(1-fee_rate))/(buy_price*(1+fee_rate)) - 1 # 수익률\n",
    "            returns.append(return_pct) # 수익률 리스트에 추가\n",
    "            holding_period = np.busday_count(buy_date.date(), sell_date.date()) # np.busday_count(start, end)는 영업일 기준 일수 계산. buy_date.date()는 날짜에서  \n",
    "            holding_periods.append(holding_period) # 보유일 수 (=보유기간) 리스트에 추가\n",
    "\n",
    "    long_profitable_trades = len([r for r in returns if r > 0]) # 수익 난 거래 일 수 변수에 저장\n",
    "    long_total_trades = len(long_returns) # 전체 거래 일 수\n",
    "    \n",
    "    short_profitable_trades = len([r for r in returns if r > 0])\n",
    "    short_total_trades = len(short_returns) # 전체 거래 일 수\n",
    "    \n",
    "    long_win_rate = long_profitable_trades / total_trades if long_total_trades > 0 else 0\n",
    "    short_win_rate = short_profitable_trades / total_trades if short_total_trades > 0 else 0\n",
    "    \n",
    "    print(f'Number of Long Trades:{long_total_trades}, \\\n",
    "            Number of Short Trades:{short_total_trades}, \\\n",
    "            Long Win Rate:{100*long_win_rate:.2f}%, \\\n",
    "            Long Win Rate:{100*short_win_rate:.2f}%')\n",
    "\n",
    "    ## 평균 보유 기간\n",
    "    if long_holding_periods: # 리스트가 비어 있지 않으면(True이면)\n",
    "        avg_long_holding_period = np.mean(long_holding_periods)\n",
    "    else:\n",
    "        avg_long_holding_period = 0\n",
    "\n",
    "    if short_holding_periods: # 리스트가 비어 있지 않으면(True이면)\n",
    "        avg_short_holding_period = np.mean(short_holding_periods)\n",
    "    else:\n",
    "        avg_short_holding_period = 0\n",
    "    print(f'Average Long Holding Period:{avg_long_holding_period:.1f}days, \\\n",
    "            Average Short Holding Period: {avg_short_holding_period:.1f}days')"
   ]
  },
  {
   "cell_type": "markdown",
   "id": "8fcd6bca-aa27-472b-954d-9bba4660042b",
   "metadata": {},
   "source": [
    "## 구동"
   ]
  },
  {
   "cell_type": "code",
   "execution_count": 24,
   "id": "b09c36bf-bd90-469d-a559-a719a237bd54",
   "metadata": {},
   "outputs": [
    {
     "name": "stdout",
     "output_type": "stream",
     "text": [
      "Max Tuples: [(5, 22, np.float64(0.0)), (5, 23, np.float64(0.0)), (5, 24, np.float64(0.0)), (5, 25, np.float64(0.0)), (5, 26, np.float64(0.0)), (5, 27, np.float64(0.0)), (5, 28, np.float64(0.0)), (5, 29, np.float64(0.0)), (5, 30, np.float64(0.0)), (5, 31, np.float64(0.0)), (5, 32, np.float64(0.0)), (5, 33, np.float64(0.0)), (5, 34, np.float64(0.0)), (5, 35, np.float64(0.0)), (5, 36, np.float64(0.0)), (5, 37, np.float64(0.0)), (5, 38, np.float64(0.0)), (5, 39, np.float64(0.0)), (5, 40, np.float64(0.0)), (5, 41, np.float64(0.0)), (5, 42, np.float64(0.0)), (5, 43, np.float64(0.0)), (5, 44, np.float64(0.0)), (5, 45, np.float64(0.0)), (5, 46, np.float64(0.0)), (5, 47, np.float64(0.0)), (5, 48, np.float64(0.0)), (5, 49, np.float64(0.0)), (5, 50, np.float64(0.0)), (6, 22, np.float64(0.0)), (6, 23, np.float64(0.0)), (6, 24, np.float64(0.0)), (6, 25, np.float64(0.0)), (6, 26, np.float64(0.0)), (6, 27, np.float64(0.0)), (6, 28, np.float64(0.0)), (6, 29, np.float64(0.0)), (6, 30, np.float64(0.0)), (6, 31, np.float64(0.0)), (6, 32, np.float64(0.0)), (6, 33, np.float64(0.0)), (6, 34, np.float64(0.0)), (6, 35, np.float64(0.0)), (6, 36, np.float64(0.0)), (6, 37, np.float64(0.0)), (6, 38, np.float64(0.0)), (6, 39, np.float64(0.0)), (6, 40, np.float64(0.0)), (6, 41, np.float64(0.0)), (6, 42, np.float64(0.0)), (6, 43, np.float64(0.0)), (6, 44, np.float64(0.0)), (6, 45, np.float64(0.0)), (6, 46, np.float64(0.0)), (6, 47, np.float64(0.0)), (6, 48, np.float64(0.0)), (6, 49, np.float64(0.0)), (6, 50, np.float64(0.0)), (7, 22, np.float64(0.0)), (7, 23, np.float64(0.0)), (7, 24, np.float64(0.0)), (7, 25, np.float64(0.0)), (7, 26, np.float64(0.0)), (7, 27, np.float64(0.0)), (7, 28, np.float64(0.0)), (7, 29, np.float64(0.0)), (7, 30, np.float64(0.0)), (7, 31, np.float64(0.0)), (7, 32, np.float64(0.0)), (7, 33, np.float64(0.0)), (7, 34, np.float64(0.0)), (7, 35, np.float64(0.0)), (7, 36, np.float64(0.0)), (7, 37, np.float64(0.0)), (7, 38, np.float64(0.0)), (7, 39, np.float64(0.0)), (7, 40, np.float64(0.0)), (7, 41, np.float64(0.0)), (7, 42, np.float64(0.0)), (7, 43, np.float64(0.0)), (7, 44, np.float64(0.0)), (7, 45, np.float64(0.0)), (7, 46, np.float64(0.0)), (7, 47, np.float64(0.0)), (7, 48, np.float64(0.0)), (7, 49, np.float64(0.0)), (7, 50, np.float64(0.0)), (8, 22, np.float64(0.0)), (8, 23, np.float64(0.0)), (8, 24, np.float64(0.0)), (8, 25, np.float64(0.0)), (8, 26, np.float64(0.0)), (8, 27, np.float64(0.0)), (8, 28, np.float64(0.0)), (8, 29, np.float64(0.0)), (8, 30, np.float64(0.0)), (8, 31, np.float64(0.0)), (8, 32, np.float64(0.0)), (8, 33, np.float64(0.0)), (8, 34, np.float64(0.0)), (8, 35, np.float64(0.0)), (8, 36, np.float64(0.0)), (8, 37, np.float64(0.0)), (8, 38, np.float64(0.0)), (8, 39, np.float64(0.0)), (8, 40, np.float64(0.0)), (8, 41, np.float64(0.0)), (8, 42, np.float64(0.0)), (8, 43, np.float64(0.0)), (8, 44, np.float64(0.0)), (8, 45, np.float64(0.0)), (8, 46, np.float64(0.0)), (8, 47, np.float64(0.0)), (8, 48, np.float64(0.0)), (8, 49, np.float64(0.0)), (8, 50, np.float64(0.0)), (9, 22, np.float64(0.0)), (9, 23, np.float64(0.0)), (9, 24, np.float64(0.0)), (9, 25, np.float64(0.0)), (9, 26, np.float64(0.0)), (9, 27, np.float64(0.0)), (9, 28, np.float64(0.0)), (9, 29, np.float64(0.0)), (9, 30, np.float64(0.0)), (9, 31, np.float64(0.0)), (9, 32, np.float64(0.0)), (9, 33, np.float64(0.0)), (9, 34, np.float64(0.0)), (9, 35, np.float64(0.0)), (9, 36, np.float64(0.0)), (9, 37, np.float64(0.0)), (9, 38, np.float64(0.0)), (9, 39, np.float64(0.0)), (9, 40, np.float64(0.0)), (9, 41, np.float64(0.0)), (9, 42, np.float64(0.0)), (9, 43, np.float64(0.0)), (9, 44, np.float64(0.0)), (9, 45, np.float64(0.0)), (9, 46, np.float64(0.0)), (9, 47, np.float64(0.0)), (9, 48, np.float64(0.0)), (9, 49, np.float64(0.0)), (9, 50, np.float64(0.0)), (10, 22, np.float64(0.0)), (10, 23, np.float64(0.0)), (10, 24, np.float64(0.0)), (10, 25, np.float64(0.0)), (10, 26, np.float64(0.0)), (10, 27, np.float64(0.0)), (10, 28, np.float64(0.0)), (10, 29, np.float64(0.0)), (10, 30, np.float64(0.0)), (10, 31, np.float64(0.0)), (10, 32, np.float64(0.0)), (10, 33, np.float64(0.0)), (10, 34, np.float64(0.0)), (10, 35, np.float64(0.0)), (10, 36, np.float64(0.0)), (10, 37, np.float64(0.0)), (10, 38, np.float64(0.0)), (10, 39, np.float64(0.0)), (10, 40, np.float64(0.0)), (10, 41, np.float64(0.0)), (10, 42, np.float64(0.0)), (10, 43, np.float64(0.0)), (10, 44, np.float64(0.0)), (10, 45, np.float64(0.0)), (10, 46, np.float64(0.0)), (10, 47, np.float64(0.0)), (10, 48, np.float64(0.0)), (10, 49, np.float64(0.0)), (10, 50, np.float64(0.0)), (11, 22, np.float64(0.0)), (11, 23, np.float64(0.0)), (11, 24, np.float64(0.0)), (11, 25, np.float64(0.0)), (11, 26, np.float64(0.0)), (11, 27, np.float64(0.0)), (11, 28, np.float64(0.0)), (11, 29, np.float64(0.0)), (11, 30, np.float64(0.0)), (11, 31, np.float64(0.0)), (11, 32, np.float64(0.0)), (11, 33, np.float64(0.0)), (11, 34, np.float64(0.0)), (11, 35, np.float64(0.0)), (11, 36, np.float64(0.0)), (11, 37, np.float64(0.0)), (11, 38, np.float64(0.0)), (11, 39, np.float64(0.0)), (11, 40, np.float64(0.0)), (11, 41, np.float64(0.0)), (11, 42, np.float64(0.0)), (11, 43, np.float64(0.0)), (11, 44, np.float64(0.0)), (11, 45, np.float64(0.0)), (11, 46, np.float64(0.0)), (11, 47, np.float64(0.0)), (11, 48, np.float64(0.0)), (11, 49, np.float64(0.0)), (11, 50, np.float64(0.0)), (12, 22, np.float64(0.0)), (12, 23, np.float64(0.0)), (12, 24, np.float64(0.0)), (12, 25, np.float64(0.0)), (12, 26, np.float64(0.0)), (12, 27, np.float64(0.0)), (12, 28, np.float64(0.0)), (12, 29, np.float64(0.0)), (12, 30, np.float64(0.0)), (12, 31, np.float64(0.0)), (12, 32, np.float64(0.0)), (12, 33, np.float64(0.0)), (12, 34, np.float64(0.0)), (12, 35, np.float64(0.0)), (12, 36, np.float64(0.0)), (12, 37, np.float64(0.0)), (12, 38, np.float64(0.0)), (12, 39, np.float64(0.0)), (12, 40, np.float64(0.0)), (12, 41, np.float64(0.0)), (12, 42, np.float64(0.0)), (12, 43, np.float64(0.0)), (12, 44, np.float64(0.0)), (12, 45, np.float64(0.0)), (12, 46, np.float64(0.0)), (12, 47, np.float64(0.0)), (12, 48, np.float64(0.0)), (12, 49, np.float64(0.0)), (12, 50, np.float64(0.0)), (13, 22, np.float64(0.0)), (13, 23, np.float64(0.0)), (13, 24, np.float64(0.0)), (13, 25, np.float64(0.0)), (13, 26, np.float64(0.0)), (13, 27, np.float64(0.0)), (13, 28, np.float64(0.0)), (13, 29, np.float64(0.0)), (13, 30, np.float64(0.0)), (13, 31, np.float64(0.0)), (13, 32, np.float64(0.0)), (13, 33, np.float64(0.0)), (13, 34, np.float64(0.0)), (13, 35, np.float64(0.0)), (13, 36, np.float64(0.0)), (13, 37, np.float64(0.0)), (13, 38, np.float64(0.0)), (13, 39, np.float64(0.0)), (13, 40, np.float64(0.0)), (13, 41, np.float64(0.0)), (13, 42, np.float64(0.0)), (13, 43, np.float64(0.0)), (13, 44, np.float64(0.0)), (13, 45, np.float64(0.0)), (13, 46, np.float64(0.0)), (13, 47, np.float64(0.0)), (13, 48, np.float64(0.0)), (13, 49, np.float64(0.0)), (13, 50, np.float64(0.0)), (14, 22, np.float64(0.0)), (14, 23, np.float64(0.0)), (14, 24, np.float64(0.0)), (14, 25, np.float64(0.0)), (14, 26, np.float64(0.0)), (14, 27, np.float64(0.0)), (14, 28, np.float64(0.0)), (14, 29, np.float64(0.0)), (14, 30, np.float64(0.0)), (14, 31, np.float64(0.0)), (14, 32, np.float64(0.0)), (14, 33, np.float64(0.0)), (14, 34, np.float64(0.0)), (14, 35, np.float64(0.0)), (14, 36, np.float64(0.0)), (14, 37, np.float64(0.0)), (14, 38, np.float64(0.0)), (14, 39, np.float64(0.0)), (14, 40, np.float64(0.0)), (14, 41, np.float64(0.0)), (14, 42, np.float64(0.0)), (14, 43, np.float64(0.0)), (14, 44, np.float64(0.0)), (14, 45, np.float64(0.0)), (14, 46, np.float64(0.0)), (14, 47, np.float64(0.0)), (14, 48, np.float64(0.0)), (14, 49, np.float64(0.0)), (14, 50, np.float64(0.0)), (15, 22, np.float64(0.0)), (15, 23, np.float64(0.0)), (15, 24, np.float64(0.0)), (15, 25, np.float64(0.0)), (15, 26, np.float64(0.0)), (15, 27, np.float64(0.0)), (15, 28, np.float64(0.0)), (15, 29, np.float64(0.0)), (15, 30, np.float64(0.0)), (15, 31, np.float64(0.0)), (15, 32, np.float64(0.0)), (15, 33, np.float64(0.0)), (15, 34, np.float64(0.0)), (15, 35, np.float64(0.0)), (15, 36, np.float64(0.0)), (15, 37, np.float64(0.0)), (15, 38, np.float64(0.0)), (15, 39, np.float64(0.0)), (15, 40, np.float64(0.0)), (15, 41, np.float64(0.0)), (15, 42, np.float64(0.0)), (15, 43, np.float64(0.0)), (15, 44, np.float64(0.0)), (15, 45, np.float64(0.0)), (15, 46, np.float64(0.0)), (15, 47, np.float64(0.0)), (15, 48, np.float64(0.0)), (15, 49, np.float64(0.0)), (15, 50, np.float64(0.0)), (16, 22, np.float64(0.0)), (16, 23, np.float64(0.0)), (16, 24, np.float64(0.0)), (16, 25, np.float64(0.0)), (16, 26, np.float64(0.0)), (16, 27, np.float64(0.0)), (16, 28, np.float64(0.0)), (16, 29, np.float64(0.0)), (16, 30, np.float64(0.0)), (16, 31, np.float64(0.0)), (16, 32, np.float64(0.0)), (16, 33, np.float64(0.0)), (16, 34, np.float64(0.0)), (16, 35, np.float64(0.0)), (16, 36, np.float64(0.0)), (16, 37, np.float64(0.0)), (16, 38, np.float64(0.0)), (16, 39, np.float64(0.0)), (16, 40, np.float64(0.0)), (16, 41, np.float64(0.0)), (16, 42, np.float64(0.0)), (16, 43, np.float64(0.0)), (16, 44, np.float64(0.0)), (16, 45, np.float64(0.0)), (16, 46, np.float64(0.0)), (16, 47, np.float64(0.0)), (16, 48, np.float64(0.0)), (16, 49, np.float64(0.0)), (16, 50, np.float64(0.0)), (17, 22, np.float64(0.0)), (17, 23, np.float64(0.0)), (17, 24, np.float64(0.0)), (17, 25, np.float64(0.0)), (17, 26, np.float64(0.0)), (17, 27, np.float64(0.0)), (17, 28, np.float64(0.0)), (17, 29, np.float64(0.0)), (17, 30, np.float64(0.0)), (17, 31, np.float64(0.0)), (17, 32, np.float64(0.0)), (17, 33, np.float64(0.0)), (17, 34, np.float64(0.0)), (17, 35, np.float64(0.0)), (17, 36, np.float64(0.0)), (17, 37, np.float64(0.0)), (17, 38, np.float64(0.0)), (17, 39, np.float64(0.0)), (17, 40, np.float64(0.0)), (17, 41, np.float64(0.0)), (17, 42, np.float64(0.0)), (17, 43, np.float64(0.0)), (17, 44, np.float64(0.0)), (17, 45, np.float64(0.0)), (17, 46, np.float64(0.0)), (17, 47, np.float64(0.0)), (17, 48, np.float64(0.0)), (17, 49, np.float64(0.0)), (17, 50, np.float64(0.0)), (18, 22, np.float64(0.0)), (18, 23, np.float64(0.0)), (18, 24, np.float64(0.0)), (18, 25, np.float64(0.0)), (18, 26, np.float64(0.0)), (18, 27, np.float64(0.0)), (18, 28, np.float64(0.0)), (18, 29, np.float64(0.0)), (18, 30, np.float64(0.0)), (18, 31, np.float64(0.0)), (18, 32, np.float64(0.0)), (18, 33, np.float64(0.0)), (18, 34, np.float64(0.0)), (18, 35, np.float64(0.0)), (18, 36, np.float64(0.0)), (18, 37, np.float64(0.0)), (18, 38, np.float64(0.0)), (18, 39, np.float64(0.0)), (18, 40, np.float64(0.0)), (18, 41, np.float64(0.0)), (18, 42, np.float64(0.0)), (18, 43, np.float64(0.0)), (18, 44, np.float64(0.0)), (18, 45, np.float64(0.0)), (18, 46, np.float64(0.0)), (18, 47, np.float64(0.0)), (18, 48, np.float64(0.0)), (18, 49, np.float64(0.0)), (18, 50, np.float64(0.0)), (19, 22, np.float64(0.0)), (19, 23, np.float64(0.0)), (19, 24, np.float64(0.0)), (19, 25, np.float64(0.0)), (19, 26, np.float64(0.0)), (19, 27, np.float64(0.0)), (19, 28, np.float64(0.0)), (19, 29, np.float64(0.0)), (19, 30, np.float64(0.0)), (19, 31, np.float64(0.0)), (19, 32, np.float64(0.0)), (19, 33, np.float64(0.0)), (19, 34, np.float64(0.0)), (19, 35, np.float64(0.0)), (19, 36, np.float64(0.0)), (19, 37, np.float64(0.0)), (19, 38, np.float64(0.0)), (19, 39, np.float64(0.0)), (19, 40, np.float64(0.0)), (19, 41, np.float64(0.0)), (19, 42, np.float64(0.0)), (19, 43, np.float64(0.0)), (19, 44, np.float64(0.0)), (19, 45, np.float64(0.0)), (19, 46, np.float64(0.0)), (19, 47, np.float64(0.0)), (19, 48, np.float64(0.0)), (19, 49, np.float64(0.0)), (19, 50, np.float64(0.0)), (20, 22, np.float64(0.0)), (20, 23, np.float64(0.0)), (20, 24, np.float64(0.0)), (20, 25, np.float64(0.0)), (20, 26, np.float64(0.0)), (20, 27, np.float64(0.0)), (20, 28, np.float64(0.0)), (20, 29, np.float64(0.0)), (20, 30, np.float64(0.0)), (20, 31, np.float64(0.0)), (20, 32, np.float64(0.0)), (20, 33, np.float64(0.0)), (20, 34, np.float64(0.0)), (20, 35, np.float64(0.0)), (20, 36, np.float64(0.0)), (20, 37, np.float64(0.0)), (20, 38, np.float64(0.0)), (20, 39, np.float64(0.0)), (20, 40, np.float64(0.0)), (20, 41, np.float64(0.0)), (20, 42, np.float64(0.0)), (20, 43, np.float64(0.0)), (20, 44, np.float64(0.0)), (20, 45, np.float64(0.0)), (20, 46, np.float64(0.0)), (20, 47, np.float64(0.0)), (20, 48, np.float64(0.0)), (20, 49, np.float64(0.0)), (20, 50, np.float64(0.0)), (21, 22, np.float64(0.0)), (21, 23, np.float64(0.0)), (21, 24, np.float64(0.0)), (21, 25, np.float64(0.0)), (21, 26, np.float64(0.0)), (21, 27, np.float64(0.0)), (21, 28, np.float64(0.0)), (21, 29, np.float64(0.0)), (21, 30, np.float64(0.0)), (21, 31, np.float64(0.0)), (21, 32, np.float64(0.0)), (21, 33, np.float64(0.0)), (21, 34, np.float64(0.0)), (21, 35, np.float64(0.0)), (21, 36, np.float64(0.0)), (21, 37, np.float64(0.0)), (21, 38, np.float64(0.0)), (21, 39, np.float64(0.0)), (21, 40, np.float64(0.0)), (21, 41, np.float64(0.0)), (21, 42, np.float64(0.0)), (21, 43, np.float64(0.0)), (21, 44, np.float64(0.0)), (21, 45, np.float64(0.0)), (21, 46, np.float64(0.0)), (21, 47, np.float64(0.0)), (21, 48, np.float64(0.0)), (21, 49, np.float64(0.0)), (21, 50, np.float64(0.0))]\n",
      "Optimal Parameters:13, 36, Optimized Return: 0.00%\n",
      "Final cumulative return of the strategy:  0.00%\n"
     ]
    }
   ],
   "source": [
    "optimal_params, optimal_df = mac_long_short_optimizer(df)\n",
    "data, ret = mac_long_short(df, optimal_params[0], optimal_params[1])"
   ]
  },
  {
   "cell_type": "code",
   "execution_count": null,
   "id": "c25fb8e4-558d-4fd9-9edd-7988605aab9c",
   "metadata": {},
   "outputs": [],
   "source": [
    "tear_sheet(data)"
   ]
  }
 ],
 "metadata": {
  "kernelspec": {
   "display_name": "quant",
   "language": "python",
   "name": "quant"
  },
  "language_info": {
   "codemirror_mode": {
    "name": "ipython",
    "version": 3
   },
   "file_extension": ".py",
   "mimetype": "text/x-python",
   "name": "python",
   "nbconvert_exporter": "python",
   "pygments_lexer": "ipython3",
   "version": "3.12.9"
  }
 },
 "nbformat": 4,
 "nbformat_minor": 5
}
